{
 "cells": [
  {
   "cell_type": "code",
   "execution_count": 1,
   "id": "3913eb78",
   "metadata": {},
   "outputs": [
    {
     "name": "stdout",
     "output_type": "stream",
     "text": [
      "apple\n",
      "banana\n",
      "mango\n",
      "orange\n"
     ]
    }
   ],
   "source": [
    "fruits = ['apple', 'banana', 'mango','orange']\n",
    "for fruit in fruits : \n",
    "    print(fruit)"
   ]
  },
  {
   "cell_type": "code",
   "execution_count": 2,
   "id": "4e99abce",
   "metadata": {},
   "outputs": [
    {
     "name": "stdout",
     "output_type": "stream",
     "text": [
      "Orange, this is a good food\n"
     ]
    }
   ],
   "source": [
    "print (f\"{fruit.title()}, this is a good food\")\n",
    "#why this is producing single output?"
   ]
  },
  {
   "cell_type": "code",
   "execution_count": 3,
   "id": "e39f58f2",
   "metadata": {},
   "outputs": [
    {
     "name": "stdout",
     "output_type": "stream",
     "text": [
      "Apple, this is a good food\n",
      "Banana, this is a good food\n",
      "Mango, this is a good food\n",
      "Orange, this is a good food\n"
     ]
    }
   ],
   "source": [
    "fruits = ['apple', 'banana', 'mango','orange']\n",
    "for fruit in fruits : \n",
    "    print (f\"{fruit.title()}, this is a good food\")\n",
    "    #why this is producing all the utputs?"
   ]
  },
  {
   "cell_type": "code",
   "execution_count": 4,
   "id": "57bcab93",
   "metadata": {},
   "outputs": [
    {
     "name": "stdout",
     "output_type": "stream",
     "text": [
      "I am waiting to test the fruit, Orange.\n",
      "\n"
     ]
    }
   ],
   "source": [
    "print (f\"I am waiting to test the fruit, {fruit.title()}.\\n\")"
   ]
  },
  {
   "cell_type": "code",
   "execution_count": 5,
   "id": "8e3bb30d",
   "metadata": {},
   "outputs": [
    {
     "name": "stdout",
     "output_type": "stream",
     "text": [
      "Apple, this is a good food\n",
      "I am waiting to test the fruit, Apple.\n",
      "\n",
      "Banana, this is a good food\n",
      "I am waiting to test the fruit, Banana.\n",
      "\n",
      "Mango, this is a good food\n",
      "I am waiting to test the fruit, Mango.\n",
      "\n",
      "Orange, this is a good food\n",
      "I am waiting to test the fruit, Orange.\n",
      "\n"
     ]
    }
   ],
   "source": [
    "fruits = ['apple', 'banana', 'mango','orange']\n",
    "for fruit in fruits : \n",
    "    print (f\"{fruit.title()}, this is a good food\")\n",
    "    print (f\"I am waiting to test the fruit, {fruit.title()}.\\n\")"
   ]
  },
  {
   "cell_type": "code",
   "execution_count": 6,
   "id": "adc3be9b",
   "metadata": {},
   "outputs": [
    {
     "name": "stdout",
     "output_type": "stream",
     "text": [
      "Apple, this is a good food\n",
      "I am waiting to test the fruit, Apple.\n",
      "\n",
      "All the fruits were really nice. I hope all of you will like those\n",
      "Banana, this is a good food\n",
      "I am waiting to test the fruit, Banana.\n",
      "\n",
      "All the fruits were really nice. I hope all of you will like those\n",
      "Mango, this is a good food\n",
      "I am waiting to test the fruit, Mango.\n",
      "\n",
      "All the fruits were really nice. I hope all of you will like those\n",
      "Orange, this is a good food\n",
      "I am waiting to test the fruit, Orange.\n",
      "\n",
      "All the fruits were really nice. I hope all of you will like those\n"
     ]
    }
   ],
   "source": [
    "fruits = ['apple', 'banana', 'mango','orange']\n",
    "for fruit in fruits : \n",
    "    print (f\"{fruit.title()}, this is a good food\")\n",
    "    print (f\"I am waiting to test the fruit, {fruit.title()}.\\n\")\n",
    "    print(\"All the fruits were really nice. I hope all of you will like those\")"
   ]
  },
  {
   "cell_type": "code",
   "execution_count": 7,
   "id": "400cc10d",
   "metadata": {},
   "outputs": [
    {
     "name": "stdout",
     "output_type": "stream",
     "text": [
      "1\n",
      "2\n",
      "3\n",
      "4\n",
      "5\n",
      "6\n",
      "7\n",
      "8\n",
      "9\n"
     ]
    }
   ],
   "source": [
    "for value in range(1,10):\n",
    "    print(value)"
   ]
  },
  {
   "cell_type": "code",
   "execution_count": 10,
   "id": "4d20d9b8",
   "metadata": {},
   "outputs": [
    {
     "ename": "NameError",
     "evalue": "name 'numbers' is not defined",
     "output_type": "error",
     "traceback": [
      "\u001b[0;31m---------------------------------------------------------------------------\u001b[0m",
      "\u001b[0;31mNameError\u001b[0m                                 Traceback (most recent call last)",
      "\u001b[0;32m/tmp/ipykernel_4961/1527467046.py\u001b[0m in \u001b[0;36m<module>\u001b[0;34m\u001b[0m\n\u001b[1;32m      1\u001b[0m \u001b[0mmumbers\u001b[0m\u001b[0;34m=\u001b[0m\u001b[0mlist\u001b[0m\u001b[0;34m(\u001b[0m\u001b[0mrange\u001b[0m\u001b[0;34m(\u001b[0m\u001b[0;36m1\u001b[0m\u001b[0;34m,\u001b[0m\u001b[0;36m10\u001b[0m\u001b[0;34m)\u001b[0m\u001b[0;34m)\u001b[0m\u001b[0;34m\u001b[0m\u001b[0;34m\u001b[0m\u001b[0m\n\u001b[0;32m----> 2\u001b[0;31m \u001b[0mprint\u001b[0m\u001b[0;34m(\u001b[0m\u001b[0mnumbers\u001b[0m\u001b[0;34m)\u001b[0m\u001b[0;34m\u001b[0m\u001b[0;34m\u001b[0m\u001b[0m\n\u001b[0m",
      "\u001b[0;31mNameError\u001b[0m: name 'numbers' is not defined"
     ]
    }
   ],
   "source": [
    "mumbers=list(range(1,10))\n",
    "print(numbers)\n",
    "#why this didn't work' "
   ]
  },
  {
   "cell_type": "code",
   "execution_count": 11,
   "id": "f1e6457e",
   "metadata": {
    "scrolled": true
   },
   "outputs": [
    {
     "name": "stdout",
     "output_type": "stream",
     "text": [
      "[1, 2, 3, 4, 5, 6, 7, 8, 9]\n"
     ]
    }
   ],
   "source": [
    "mumber=list(range(1,10))\n",
    "print(mumber)"
   ]
  },
  {
   "cell_type": "code",
   "execution_count": 12,
   "id": "6fe270ea",
   "metadata": {
    "scrolled": true
   },
   "outputs": [
    {
     "name": "stdout",
     "output_type": "stream",
     "text": [
      "[1, 3, 5, 7, 9]\n"
     ]
    }
   ],
   "source": [
    "odd_numbers=list(range(1,10,2))\n",
    "print(odd_numbers)"
   ]
  },
  {
   "cell_type": "code",
   "execution_count": 17,
   "id": "9e64b307",
   "metadata": {
    "scrolled": true
   },
   "outputs": [
    {
     "name": "stdout",
     "output_type": "stream",
     "text": [
      "[1, 4, 9, 16, 25, 36, 49, 64, 81]\n"
     ]
    }
   ],
   "source": [
    "squares=[]\n",
    "for value in range(1,10):\n",
    "    square=value**2\n",
    "    squares.append(square)\n",
    "    \n",
    "print(squares)\n",
    "#     why this is showing  separate list of squares?"
   ]
  },
  {
   "cell_type": "code",
   "execution_count": 20,
   "id": "9f45e759",
   "metadata": {},
   "outputs": [
    {
     "data": {
      "text/plain": [
       "36"
      ]
     },
     "execution_count": 20,
     "metadata": {},
     "output_type": "execute_result"
    }
   ],
   "source": [
    "digits=[1,2,3,4,5,6,7,8]\n",
    "x = min(digits) or max(digits)\n",
    "sum(digits)"
   ]
  },
  {
   "cell_type": "code",
   "execution_count": null,
   "id": "f52b4730",
   "metadata": {},
   "outputs": [],
   "source": []
  },
  {
   "cell_type": "code",
   "execution_count": null,
   "id": "bfe2964f",
   "metadata": {},
   "outputs": [],
   "source": []
  }
 ],
 "metadata": {
  "kernelspec": {
   "display_name": "Python 3 (ipykernel)",
   "language": "python",
   "name": "python3"
  },
  "language_info": {
   "codemirror_mode": {
    "name": "ipython",
    "version": 3
   },
   "file_extension": ".py",
   "mimetype": "text/x-python",
   "name": "python",
   "nbconvert_exporter": "python",
   "pygments_lexer": "ipython3",
   "version": "3.10.4"
  }
 },
 "nbformat": 4,
 "nbformat_minor": 5
}
