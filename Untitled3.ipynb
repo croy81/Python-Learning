{
 "cells": [
  {
   "cell_type": "code",
   "execution_count": 1,
   "id": "bf3aa2ee",
   "metadata": {},
   "outputs": [
    {
     "name": "stdout",
     "output_type": "stream",
     "text": [
      "['toyota', 'nissan', 'tata', 'bmw', 'benz']\n"
     ]
    }
   ],
   "source": [
    "cars = ['toyota', 'nissan', 'tata', 'bmw', 'benz']\n",
    "print(cars)"
   ]
  },
  {
   "cell_type": "code",
   "execution_count": 3,
   "id": "5a69f0b5",
   "metadata": {},
   "outputs": [
    {
     "name": "stdout",
     "output_type": "stream",
     "text": [
      "nissan\n"
     ]
    }
   ],
   "source": [
    "print(cars[1])"
   ]
  },
  {
   "cell_type": "code",
   "execution_count": 5,
   "id": "a0e90693",
   "metadata": {},
   "outputs": [
    {
     "name": "stdout",
     "output_type": "stream",
     "text": [
      "Nissan\n"
     ]
    }
   ],
   "source": [
    "print(cars[1].title())"
   ]
  },
  {
   "cell_type": "code",
   "execution_count": 6,
   "id": "ef14889f",
   "metadata": {},
   "outputs": [
    {
     "name": "stdout",
     "output_type": "stream",
     "text": [
      "Benz\n"
     ]
    }
   ],
   "source": [
    "print(cars[-1].title())"
   ]
  },
  {
   "cell_type": "code",
   "execution_count": 10,
   "id": "0a601013",
   "metadata": {},
   "outputs": [
    {
     "name": "stdout",
     "output_type": "stream",
     "text": [
      "My first car was a Nissan\n"
     ]
    }
   ],
   "source": [
    "message=f\"My first car was a {cars[1].title()}\"\n",
    "print(message)"
   ]
  },
  {
   "cell_type": "code",
   "execution_count": 12,
   "id": "235c8349",
   "metadata": {},
   "outputs": [
    {
     "name": "stdout",
     "output_type": "stream",
     "text": [
      "My current car is a Benz\n"
     ]
    }
   ],
   "source": [
    "message=f\"My current car is a {cars[-1].title()}\"\n",
    "print(message)"
   ]
  },
  {
   "cell_type": "code",
   "execution_count": 14,
   "id": "6e69075d",
   "metadata": {},
   "outputs": [
    {
     "name": "stdout",
     "output_type": "stream",
     "text": [
      "my current car is a Bmw\n"
     ]
    }
   ],
   "source": [
    "message=f\"my current car is a {cars[-2].title()}\"\n",
    "print(message)"
   ]
  },
  {
   "cell_type": "code",
   "execution_count": 19,
   "id": "345273fa",
   "metadata": {},
   "outputs": [
    {
     "name": "stdout",
     "output_type": "stream",
     "text": [
      "Bmw\n"
     ]
    }
   ],
   "source": [
    "print(cars[-2].title())"
   ]
  },
  {
   "cell_type": "code",
   "execution_count": 20,
   "id": "27baf439",
   "metadata": {},
   "outputs": [
    {
     "name": "stdout",
     "output_type": "stream",
     "text": [
      "['toyota', 'nissan', 'tata', 'bmw', 'benz', 'ford']\n"
     ]
    }
   ],
   "source": [
    "cars.append('ford')\n",
    "print(cars)"
   ]
  },
  {
   "cell_type": "code",
   "execution_count": 24,
   "id": "e5a2c498",
   "metadata": {},
   "outputs": [
    {
     "name": "stdout",
     "output_type": "stream",
     "text": [
      "['suzuki', 'suzuki', 'suzuki', 'toyota', 'nissan', 'tata', 'bmw', 'suzuki', 'benz', 'ford']\n"
     ]
    }
   ],
   "source": [
    "cars.insert(-2, 'suzuki')\n",
    "print(cars)"
   ]
  },
  {
   "cell_type": "code",
   "execution_count": 26,
   "id": "02f51d9b",
   "metadata": {},
   "outputs": [
    {
     "name": "stdout",
     "output_type": "stream",
     "text": [
      "['suzuki', 'toyota', 'nissan', 'tata', 'bmw', 'suzuki', 'benz', 'ford']\n"
     ]
    }
   ],
   "source": [
    "del cars[0:1]\n",
    "print(cars)"
   ]
  },
  {
   "cell_type": "code",
   "execution_count": 27,
   "id": "0682e56a",
   "metadata": {},
   "outputs": [
    {
     "name": "stdout",
     "output_type": "stream",
     "text": [
      "['suzuki', 'toyota', 'nissan', 'tata', 'bmw', 'suzuki', 'benz', 'ford']\n"
     ]
    }
   ],
   "source": [
    "print(cars)"
   ]
  },
  {
   "cell_type": "code",
   "execution_count": 36,
   "id": "2c4e62a2",
   "metadata": {},
   "outputs": [
    {
     "name": "stdout",
     "output_type": "stream",
     "text": [
      "toyota\n"
     ]
    }
   ],
   "source": [
    "popped_cars=cars.pop(0)\n",
    "print(popped_cars)"
   ]
  },
  {
   "cell_type": "code",
   "execution_count": 47,
   "id": "e53460ec",
   "metadata": {},
   "outputs": [
    {
     "name": "stdout",
     "output_type": "stream",
     "text": [
      "['toyota', 'toyota', 'nissan', 'benz', 'tata']\n"
     ]
    }
   ],
   "source": [
    "cars.append('toyota')\n",
    "cars.append('nissan')\n",
    "cars.append('benz')\n",
    "cars.append('tata')\n",
    "print(cars)"
   ]
  },
  {
   "cell_type": "code",
   "execution_count": 48,
   "id": "dc5f81d2",
   "metadata": {},
   "outputs": [
    {
     "name": "stdout",
     "output_type": "stream",
     "text": [
      "['toyota', 'nissan', 'benz', 'tata']\n"
     ]
    }
   ],
   "source": [
    "del cars [0]\n",
    "print(cars)"
   ]
  },
  {
   "cell_type": "code",
   "execution_count": 50,
   "id": "0890ec3d",
   "metadata": {},
   "outputs": [
    {
     "name": "stdout",
     "output_type": "stream",
     "text": [
      "The last car I sold was Benz\n"
     ]
    }
   ],
   "source": [
    "last_sold=cars.pop()\n",
    "print(f\"The last car I sold was {last_sold.title()}\")"
   ]
  },
  {
   "cell_type": "code",
   "execution_count": 52,
   "id": "a5926b52",
   "metadata": {},
   "outputs": [
    {
     "name": "stdout",
     "output_type": "stream",
     "text": [
      "['toyota', 'nissan']\n",
      "['toyota', 'nissan', 'suzuki', 'tata']\n"
     ]
    }
   ],
   "source": [
    "print(cars)\n",
    "cars.append('tata')\n",
    "cars.insert(-1,'suzuki')\n",
    "print(cars)"
   ]
  },
  {
   "cell_type": "code",
   "execution_count": 53,
   "id": "3027b81c",
   "metadata": {},
   "outputs": [
    {
     "name": "stdout",
     "output_type": "stream",
     "text": [
      "['toyota', 'nissan', 'suzuki']\n"
     ]
    }
   ],
   "source": [
    "cars.remove('tata')\n",
    "print(cars)"
   ]
  },
  {
   "cell_type": "code",
   "execution_count": 76,
   "id": "79bae3e1",
   "metadata": {},
   "outputs": [
    {
     "name": "stdout",
     "output_type": "stream",
     "text": [
      "['toyota', 'nissan', 'suzuki', 'maruti', 'maruti', 'maruti', 'maruti']\n",
      "['toyota', 'nissan', 'suzuki', 'maruti', 'maruti', 'maruti']\n"
     ]
    }
   ],
   "source": [
    "cars.append('maruti')\n",
    "print(cars)\n",
    "cheap_car='maruti'\n",
    "cars.remove(cheap_car)\n",
    "print(cars)"
   ]
  },
  {
   "cell_type": "code",
   "execution_count": 71,
   "id": "cc802a9c",
   "metadata": {},
   "outputs": [
    {
     "ename": "ValueError",
     "evalue": "list.remove(x): x not in list",
     "output_type": "error",
     "traceback": [
      "\u001b[0;31m---------------------------------------------------------------------------\u001b[0m",
      "\u001b[0;31mValueError\u001b[0m                                Traceback (most recent call last)",
      "\u001b[0;32m/tmp/ipykernel_4634/3462731338.py\u001b[0m in \u001b[0;36m<module>\u001b[0;34m\u001b[0m\n\u001b[1;32m      1\u001b[0m \u001b[0mcheap_car\u001b[0m\u001b[0;34m=\u001b[0m\u001b[0;34m'maruti'\u001b[0m\u001b[0;34m\u001b[0m\u001b[0;34m\u001b[0m\u001b[0m\n\u001b[0;32m----> 2\u001b[0;31m \u001b[0mcars\u001b[0m\u001b[0;34m.\u001b[0m\u001b[0mremove\u001b[0m\u001b[0;34m(\u001b[0m\u001b[0;34m'cheap_car'\u001b[0m\u001b[0;34m)\u001b[0m\u001b[0;34m\u001b[0m\u001b[0;34m\u001b[0m\u001b[0m\n\u001b[0m\u001b[1;32m      3\u001b[0m \u001b[0mprint\u001b[0m\u001b[0;34m(\u001b[0m\u001b[0mcars\u001b[0m\u001b[0;34m)\u001b[0m\u001b[0;34m\u001b[0m\u001b[0;34m\u001b[0m\u001b[0m\n",
      "\u001b[0;31mValueError\u001b[0m: list.remove(x): x not in list"
     ]
    }
   ],
   "source": [
    "cheap_car='maruti'\n",
    "cars.remove('cheap_car')\n",
    "print(cars)"
   ]
  },
  {
   "cell_type": "code",
   "execution_count": 72,
   "id": "bf86ce51",
   "metadata": {},
   "outputs": [
    {
     "name": "stdout",
     "output_type": "stream",
     "text": [
      "['toyota', 'nissan', 'suzuki', 'maruti', 'maruti', 'maruti', 'maruti']\n"
     ]
    }
   ],
   "source": [
    "print(cars)"
   ]
  },
  {
   "cell_type": "code",
   "execution_count": 75,
   "id": "345849d9",
   "metadata": {},
   "outputs": [
    {
     "name": "stdout",
     "output_type": "stream",
     "text": [
      "maruti\n",
      "['toyota', 'nissan', 'suzuki', 'maruti', 'maruti', 'maruti', 'maruti']\n",
      "['toyota', 'nissan', 'suzuki', 'maruti', 'maruti', 'maruti']\n"
     ]
    }
   ],
   "source": [
    "cheap_car='maruti'\n",
    "print(cheap_car)\n",
    "print(cars)\n",
    "cars.remove('maruti')\n",
    "print(cars)"
   ]
  },
  {
   "cell_type": "code",
   "execution_count": 77,
   "id": "9020f4fa",
   "metadata": {},
   "outputs": [
    {
     "data": {
      "text/plain": [
       "15200"
      ]
     },
     "execution_count": 77,
     "metadata": {},
     "output_type": "execute_result"
    }
   ],
   "source": [
    "38*400\n"
   ]
  },
  {
   "cell_type": "code",
   "execution_count": 78,
   "id": "bcc0e37b",
   "metadata": {},
   "outputs": [
    {
     "data": {
      "text/plain": [
       "16500"
      ]
     },
     "execution_count": 78,
     "metadata": {},
     "output_type": "execute_result"
    }
   ],
   "source": [
    "15200+1300"
   ]
  }
 ],
 "metadata": {
  "kernelspec": {
   "display_name": "Python 3 (ipykernel)",
   "language": "python",
   "name": "python3"
  },
  "language_info": {
   "codemirror_mode": {
    "name": "ipython",
    "version": 3
   },
   "file_extension": ".py",
   "mimetype": "text/x-python",
   "name": "python",
   "nbconvert_exporter": "python",
   "pygments_lexer": "ipython3",
   "version": "3.10.4"
  }
 },
 "nbformat": 4,
 "nbformat_minor": 5
}
