{
 "cells": [
  {
   "cell_type": "markdown",
   "id": "2cec76b8",
   "metadata": {},
   "source": [
    "## Variables"
   ]
  },
  {
   "cell_type": "code",
   "execution_count": 19,
   "id": "17c24b92",
   "metadata": {},
   "outputs": [
    {
     "data": {
      "text/plain": [
       "0.82915619758885"
      ]
     },
     "execution_count": 19,
     "metadata": {},
     "output_type": "execute_result"
    }
   ],
   "source": [
    "import "
   ]
  },
  {
   "cell_type": "code",
   "execution_count": null,
   "id": "b9111561",
   "metadata": {},
   "outputs": [],
   "source": [
    "name = 'G'\n",
    "type(name)"
   ]
  },
  {
   "cell_type": "code",
   "execution_count": null,
   "id": "0b7e48ae",
   "metadata": {},
   "outputs": [],
   "source": [
    "\n",
    "name = \"Geography\"\n",
    "dir(name)"
   ]
  },
  {
   "cell_type": "code",
   "execution_count": null,
   "id": "5c11c668",
   "metadata": {},
   "outputs": [],
   "source": [
    "number = 21.8"
   ]
  },
  {
   "cell_type": "code",
   "execution_count": null,
   "id": "70819351",
   "metadata": {},
   "outputs": [],
   "source": [
    "dir(number)"
   ]
  },
  {
   "cell_type": "code",
   "execution_count": null,
   "id": "bd8a5bcb",
   "metadata": {},
   "outputs": [],
   "source": [
    "is_true = False"
   ]
  },
  {
   "cell_type": "code",
   "execution_count": null,
   "id": "a2c450c4",
   "metadata": {},
   "outputs": [],
   "source": [
    "type(is_true)"
   ]
  },
  {
   "cell_type": "code",
   "execution_count": null,
   "id": "c89132d2",
   "metadata": {},
   "outputs": [],
   "source": [
    "dir(is_true)"
   ]
  },
  {
   "cell_type": "code",
   "execution_count": null,
   "id": "f044eb75",
   "metadata": {},
   "outputs": [],
   "source": [
    "age = '54a'\n",
    "type(age)"
   ]
  },
  {
   "cell_type": "code",
   "execution_count": null,
   "id": "b9cd53c7",
   "metadata": {},
   "outputs": [],
   "source": [
    "type(int(age))"
   ]
  },
  {
   "cell_type": "code",
   "execution_count": null,
   "id": "064d0aa9",
   "metadata": {},
   "outputs": [],
   "source": [
    "int(False)"
   ]
  },
  {
   "cell_type": "code",
   "execution_count": null,
   "id": "2e3f57ae",
   "metadata": {},
   "outputs": [],
   "source": [
    "oct(191)"
   ]
  },
  {
   "cell_type": "code",
   "execution_count": null,
   "id": "344069f1",
   "metadata": {},
   "outputs": [],
   "source": [
    "set_a = {1,2,3,4,5,65,6,7,7}"
   ]
  },
  {
   "cell_type": "code",
   "execution_count": null,
   "id": "d73ee706",
   "metadata": {},
   "outputs": [],
   "source": [
    "set_a"
   ]
  },
  {
   "cell_type": "code",
   "execution_count": null,
   "id": "69c820b8",
   "metadata": {},
   "outputs": [],
   "source": [
    "dir(set_a)"
   ]
  },
  {
   "cell_type": "code",
   "execution_count": null,
   "id": "8dda4dce",
   "metadata": {},
   "outputs": [],
   "source": [
    "\n"
   ]
  },
  {
   "cell_type": "code",
   "execution_count": null,
   "id": "bb09496f",
   "metadata": {},
   "outputs": [],
   "source": [
    "dir(numpy)"
   ]
  },
  {
   "cell_type": "code",
   "execution_count": null,
   "id": "9f5682bc",
   "metadata": {},
   "outputs": [],
   "source": []
  }
 ],
 "metadata": {
  "kernelspec": {
   "display_name": "Python 3 (ipykernel)",
   "language": "python",
   "name": "python3"
  },
  "language_info": {
   "codemirror_mode": {
    "name": "ipython",
    "version": 3
   },
   "file_extension": ".py",
   "mimetype": "text/x-python",
   "name": "python",
   "nbconvert_exporter": "python",
   "pygments_lexer": "ipython3",
   "version": "3.10.4"
  }
 },
 "nbformat": 4,
 "nbformat_minor": 5
}
